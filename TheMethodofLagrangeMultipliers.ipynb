{
 "cells": [
  {
   "cell_type": "code",
   "execution_count": 2,
   "id": "f004f386-a455-41e5-8013-97c818895b89",
   "metadata": {},
   "outputs": [
    {
     "name": "stdout",
     "output_type": "stream",
     "text": [
      "Objective: 0.19999999999999998\n",
      "Solution: [0.19999999 0.4       ]\n"
     ]
    }
   ],
   "source": [
    "import numpy as np\n",
    "from scipy.optimize import minimize\n",
    "\n",
    "# Función objetivo: f(x, y) = x^2 + y^2\n",
    "def objective(x):\n",
    "    return x[0]**2 + x[1]**2\n",
    "\n",
    "# Restricción: x + 2y = 1 → x + 2y - 1 = 0\n",
    "def constraint(x):\n",
    "    return x[0] + 2*x[1] - 1\n",
    "\n",
    "# Suposición inicial\n",
    "x0 = np.array([3, 3])\n",
    "\n",
    "# Límites para las variables (opcional)\n",
    "bounds = ((-10, 10), (-10, 10))\n",
    "\n",
    "# Restricciones en formato correcto\n",
    "constraints = [{'type': 'eq', 'fun': constraint}]\n",
    "\n",
    "# Resolver el problema de optimización\n",
    "solution = minimize(objective, x0, method='SLSQP',\n",
    "                    bounds=bounds, constraints=constraints)\n",
    "\n",
    "# Mostrar resultado\n",
    "x = solution.x\n",
    "print('Objective:', objective(x))\n",
    "print('Solution:', x)\n"
   ]
  },
  {
   "cell_type": "code",
   "execution_count": 3,
   "id": "5e66a680-bccd-4e05-8318-400f2ecbffc1",
   "metadata": {},
   "outputs": [
    {
     "name": "stdout",
     "output_type": "stream",
     "text": [
      "Objective: 2.5000000000173994\n",
      "Solution: [-0.70710678  0.70710678]\n"
     ]
    }
   ],
   "source": [
    "import numpy as np\n",
    "from scipy.optimize import minimize\n",
    "\n",
    "# Función objetivo: f(x, y) = x^2 + 4y^2\n",
    "def objective(x):\n",
    "    return x[0]**2 + 4*x[1]**2\n",
    "\n",
    "# Restricción 1: x + y = 0 → x + y = 0\n",
    "def constraint1(x):\n",
    "    return x[0] + x[1]\n",
    "\n",
    "# Restricción 2: x^2 + y^2 = 1 → círculo unitario\n",
    "def constraint2(x):\n",
    "    return x[0]**2 + x[1]**2 - 1\n",
    "\n",
    "# Suposición inicial\n",
    "x0 = np.array([3, 3])\n",
    "\n",
    "# Límites opcionales\n",
    "bounds = ((-10, 10), (-10, 10))\n",
    "\n",
    "# Lista de restricciones, tipo 'eq' = igualdad\n",
    "constraints = [\n",
    "    {'type': 'eq', 'fun': constraint1},\n",
    "    {'type': 'eq', 'fun': constraint2}\n",
    "]\n",
    "\n",
    "# Resolver la optimización\n",
    "solution = minimize(objective, x0, method='SLSQP',\n",
    "                    bounds=bounds, constraints=constraints)\n",
    "\n",
    "# Mostrar solución\n",
    "x = solution.x\n",
    "print('Objective:', objective(x))\n",
    "print('Solution:', x)\n"
   ]
  },
  {
   "cell_type": "code",
   "execution_count": null,
   "id": "970d42f8-fcc0-4e37-8342-f341316fc986",
   "metadata": {},
   "outputs": [],
   "source": []
  }
 ],
 "metadata": {
  "kernelspec": {
   "display_name": "Python 3 (ipykernel)",
   "language": "python",
   "name": "python3"
  },
  "language_info": {
   "codemirror_mode": {
    "name": "ipython",
    "version": 3
   },
   "file_extension": ".py",
   "mimetype": "text/x-python",
   "name": "python",
   "nbconvert_exporter": "python",
   "pygments_lexer": "ipython3",
   "version": "3.11.10"
  }
 },
 "nbformat": 4,
 "nbformat_minor": 5
}
