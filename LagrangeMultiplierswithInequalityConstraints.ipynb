{
 "cells": [
  {
   "cell_type": "code",
   "execution_count": 1,
   "id": "e877ce8f-a8c3-470b-b6c0-54e93e48ae9b",
   "metadata": {},
   "outputs": [
    {
     "name": "stdout",
     "output_type": "stream",
     "text": [
      "Objective: 0.1\n",
      "Solution: [0. 1.]\n"
     ]
    }
   ],
   "source": [
    "import numpy as np\n",
    "from scipy.optimize import minimize\n",
    "\n",
    "def objective(x):\n",
    "    return 0.25*x[0]**2 + 0.1*x[1]**2 + 0.3*x[0]*x[1]\n",
    "\n",
    "def constraint1(x):\n",
    "    # Equality constraint: The result required be zero\n",
    "    return x[0] + x[1] - 1\n",
    "\n",
    "def constraint2(x):\n",
    "    # Inequality constraint: The result required be non-negative\n",
    "    return x[0]\n",
    "\n",
    "def constraint3(x):\n",
    "    # Inequality constraint: The result required be non-negative\n",
    "    return 1 - x[0]\n",
    "\n",
    "# initial guesses\n",
    "x0 = np.array([0, 1])\n",
    "\n",
    "# optimize\n",
    "bounds = ((0, 1), (0, 1))\n",
    "constraints = [\n",
    "    {\"type\": \"eq\", \"fun\": constraint1},\n",
    "    {\"type\": \"ineq\", \"fun\": constraint2},\n",
    "    {\"type\": \"ineq\", \"fun\": constraint3},\n",
    "]\n",
    "\n",
    "solution = minimize(objective, x0, method='SLSQP', bounds=bounds, constraints=constraints)\n",
    "x = solution.x\n",
    "\n",
    "# show solution\n",
    "print('Objective:', objective(x))\n",
    "print('Solution:', x)"
   ]
  },
  {
   "cell_type": "code",
   "execution_count": 3,
   "id": "91e2bb83-6692-4fde-9a8a-a7523249735c",
   "metadata": {},
   "outputs": [
    {
     "name": "stdout",
     "output_type": "stream",
     "text": [
      "Objective: 0.4252677354043441\n",
      "Solution: [0. 0. 1.]\n"
     ]
    }
   ],
   "source": [
    "import numpy as np\n",
    "from scipy.optimize import minimize\n",
    "\n",
    "# Función objetivo\n",
    "def objective(x):\n",
    "    return np.log(1 + 0.9 * x[0]) + np.log(0.9 + 0.8 * x[1]) + np.log(1 + 0.7 * x[2])\n",
    "\n",
    "# Restricción de igualdad: la suma debe ser 1\n",
    "def constraint1(x):\n",
    "    return x[0] + x[1] + x[2] - 1\n",
    "\n",
    "# Restricciones de desigualdad: todas las variables >= 0\n",
    "def constraint2(x):\n",
    "    return x[0]\n",
    "\n",
    "def constraint3(x):\n",
    "    return x[1]\n",
    "\n",
    "def constraint4(x):\n",
    "    return x[2]\n",
    "\n",
    "# Valor inicial\n",
    "x0 = np.array([0.4, 0.4, 0.4])\n",
    "\n",
    "# Límites\n",
    "bounds = ((0, 1), (0, 1), (0, 1))\n",
    "\n",
    "# Lista de restricciones\n",
    "constraints = [\n",
    "    {\"type\": \"eq\", \"fun\": constraint1},\n",
    "    {\"type\": \"ineq\", \"fun\": constraint2},\n",
    "    {\"type\": \"ineq\", \"fun\": constraint3},\n",
    "    {\"type\": \"ineq\", \"fun\": constraint4}\n",
    "]\n",
    "\n",
    "# Optimización\n",
    "solution = minimize(objective, x0, method='SLSQP', bounds=bounds, constraints=constraints)\n",
    "x = solution.x\n",
    "\n",
    "# Mostrar resultados\n",
    "print('Objective:', objective(x))\n",
    "print('Solution:', x)"
   ]
  },
  {
   "cell_type": "code",
   "execution_count": 5,
   "id": "8dc7121a-0418-481a-93de-d2e65cd9e61c",
   "metadata": {},
   "outputs": [
    {
     "name": "stdout",
     "output_type": "stream",
     "text": [
      "p1 = 0.4438, p2 = 0.4299, p3 = 0.1263\n",
      "Capacidad total (log natural): f = 0.6390\n",
      "Capacidad total (log base 2): f = 0.9219 bits\n"
     ]
    }
   ],
   "source": [
    "from scipy.optimize import fsolve\n",
    "import numpy as np\n",
    "\n",
    "# Definimos el sistema de ecuaciones\n",
    "def equations(p):\n",
    "    p1, p2 = p\n",
    "    p3 = 1 - p1 - p2  # Por la restricción de suma 1\n",
    "    eq1 = 0.9 / (1 + 0.9 * p1) - 0.8 / (0.9 + 0.8 * p2)\n",
    "    eq2 = 0.9 / (1 + 0.9 * p1) - 0.7 / (1 + 0.7 * p3)\n",
    "    return [eq1, eq2]\n",
    "\n",
    "# Suposición inicial\n",
    "guess = [0.4, 0.4]\n",
    "p1, p2 = fsolve(equations, guess)\n",
    "p3 = 1 - p1 - p2\n",
    "\n",
    "# Mostrar resultados\n",
    "print(f\"p1 = {p1:.4f}, p2 = {p2:.4f}, p3 = {p3:.4f}\")\n",
    "f = np.log(1 + 0.9 * p1) + np.log(0.9 + 0.8 * p2) + np.log(1 + 0.7 * p3)\n",
    "print(f\"Capacidad total (log natural): f = {f:.4f}\")\n",
    "print(f\"Capacidad total (log base 2): f = {f/np.log(2):.4f} bits\")"
   ]
  },
  {
   "cell_type": "code",
   "execution_count": null,
   "id": "147721d6-bcf0-41a1-a693-d5fac008d530",
   "metadata": {},
   "outputs": [],
   "source": []
  }
 ],
 "metadata": {
  "kernelspec": {
   "display_name": "Python 3 (ipykernel)",
   "language": "python",
   "name": "python3"
  },
  "language_info": {
   "codemirror_mode": {
    "name": "ipython",
    "version": 3
   },
   "file_extension": ".py",
   "mimetype": "text/x-python",
   "name": "python",
   "nbconvert_exporter": "python",
   "pygments_lexer": "ipython3",
   "version": "3.11.10"
  }
 },
 "nbformat": 4,
 "nbformat_minor": 5
}
