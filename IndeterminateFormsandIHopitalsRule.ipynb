{
 "cells": [
  {
   "cell_type": "code",
   "execution_count": 1,
   "id": "4f53347f-f76b-4413-8b53-dac50a671fef",
   "metadata": {},
   "outputs": [
    {
     "name": "stdout",
     "output_type": "stream",
     "text": [
      "Limit of\n",
      "log(x - 1)\n",
      "──────────\n",
      "  x - 2   \n",
      "at x = 2 is 1\n",
      "\n",
      "Limit of\n",
      "log(x)\n",
      "──────\n",
      "  x   \n",
      "at x = infinity is 0\n"
     ]
    }
   ],
   "source": [
    "from sympy import limit, oo, ln, simplify, pprint\n",
    "from sympy.abc import x\n",
    "\n",
    "# Ejemplo 1\n",
    "expression = ln(x - 1) / (x - 2)\n",
    "result = limit(expression, x, 2)\n",
    "print(\"Limit of\")\n",
    "pprint(expression)\n",
    "print(\"at x = 2 is\", result)\n",
    "\n",
    "# Línea separadora\n",
    "print()\n",
    "\n",
    "# Ejemplo 2\n",
    "expression = ln(x) / x\n",
    "result = limit(expression, x, oo)\n",
    "print(\"Limit of\")\n",
    "pprint(expression)\n",
    "print(\"at x = infinity is\", result)"
   ]
  },
  {
   "cell_type": "code",
   "execution_count": 3,
   "id": "65874e36-cc72-4a7e-aa61-b533addbc54c",
   "metadata": {},
   "outputs": [
    {
     "name": "stdout",
     "output_type": "stream",
     "text": [
      "Limit of\n",
      "     ⎛1⎞\n",
      "x⋅sin⎜─⎟\n",
      "     ⎝x⎠\n",
      "at x = infinity is 1\n",
      "\n",
      "Limit of\n",
      "    1        1\n",
      "────────── - ─\n",
      "1 - cos(x)   x\n",
      "at x = 0 is oo\n",
      "\n",
      "Limit of\n",
      "x _______\n",
      "╲╱ x + 1 \n",
      "at x = infinity is 1\n"
     ]
    }
   ],
   "source": [
    "from sympy import limit, oo, sin, cos, simplify, pprint\n",
    "from sympy.abc import x\n",
    "\n",
    "# Ejemplo 1\n",
    "expression = x * sin(1/x)\n",
    "result = limit(expression, x, oo)\n",
    "print(\"Limit of\")\n",
    "pprint(expression)\n",
    "print(\"at x = infinity is\", result)\n",
    "\n",
    "print()\n",
    "\n",
    "# Ejemplo 2\n",
    "expression = 1 / (1 - cos(x)) - 1 / x\n",
    "result = limit(expression, x, 0)\n",
    "print(\"Limit of\")\n",
    "pprint(expression)\n",
    "print(\"at x = 0 is\", result)\n",
    "\n",
    "print()\n",
    "\n",
    "# Ejemplo 3\n",
    "expression = (1 + x)**(1 / x)\n",
    "result = limit(expression, x, oo)\n",
    "print(\"Limit of\")\n",
    "pprint(expression)\n",
    "print(\"at x = infinity is\", result)"
   ]
  },
  {
   "cell_type": "code",
   "execution_count": null,
   "id": "32f0338c-8a93-4fcc-ad3c-328bff5b5f02",
   "metadata": {},
   "outputs": [],
   "source": []
  }
 ],
 "metadata": {
  "kernelspec": {
   "display_name": "Python 3 (ipykernel)",
   "language": "python",
   "name": "python3"
  },
  "language_info": {
   "codemirror_mode": {
    "name": "ipython",
    "version": 3
   },
   "file_extension": ".py",
   "mimetype": "text/x-python",
   "name": "python",
   "nbconvert_exporter": "python",
   "pygments_lexer": "ipython3",
   "version": "3.11.10"
  }
 },
 "nbformat": 4,
 "nbformat_minor": 5
}
