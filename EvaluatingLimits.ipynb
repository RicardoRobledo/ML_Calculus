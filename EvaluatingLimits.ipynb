{
 "cells": [
  {
   "cell_type": "code",
   "execution_count": 2,
   "id": "eb80a483-1590-4c60-bab4-577312684a87",
   "metadata": {},
   "outputs": [
    {
     "name": "stdout",
     "output_type": "stream",
     "text": [
      "Limit of\n",
      "  _______\n",
      "╲╱ x + 1 \n",
      "at x=-1 is 0\n"
     ]
    }
   ],
   "source": [
    "from sympy import limit, sqrt, pprint\n",
    "from sympy.abc import x\n",
    "\n",
    "expression = sqrt(x+1)\n",
    "result = limit(expression, x,-1)\n",
    "\n",
    "print(\"Limit of\")\n",
    "pprint(expression)\n",
    "print(\"at x=-1 is\", result)"
   ]
  },
  {
   "cell_type": "code",
   "execution_count": 3,
   "id": "e052babf-9d29-4cdb-aa25-3bb4a57dee03",
   "metadata": {},
   "outputs": [
    {
     "name": "stdout",
     "output_type": "stream",
     "text": [
      "Limit of\n",
      " 2    ⎛1⎞\n",
      "x ⋅sin⎜─⎟\n",
      "      ⎝x⎠\n",
      "at x=0 is 0\n"
     ]
    }
   ],
   "source": [
    "from sympy import limit, sin, pprint\n",
    "from sympy.abc import x\n",
    "\n",
    "expression = x**2 * sin(1/x)\n",
    "result = limit(expression, x, 0)\n",
    "\n",
    "print(\"Limit of\")\n",
    "pprint(expression)\n",
    "print(\"at x=0 is\", result)"
   ]
  }
 ],
 "metadata": {
  "kernelspec": {
   "display_name": "Python 3 (ipykernel)",
   "language": "python",
   "name": "python3"
  },
  "language_info": {
   "codemirror_mode": {
    "name": "ipython",
    "version": 3
   },
   "file_extension": ".py",
   "mimetype": "text/x-python",
   "name": "python",
   "nbconvert_exporter": "python",
   "pygments_lexer": "ipython3",
   "version": "3.11.10"
  }
 },
 "nbformat": 4,
 "nbformat_minor": 5
}
