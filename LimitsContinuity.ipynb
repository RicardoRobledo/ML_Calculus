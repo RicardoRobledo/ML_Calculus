{
 "cells": [
  {
   "cell_type": "code",
   "execution_count": 9,
   "id": "badc02c2-1e70-4bf9-8f6a-d9aeacc45412",
   "metadata": {},
   "outputs": [
    {
     "name": "stdout",
     "output_type": "stream",
     "text": [
      "Left limit is 2.0\n",
      "Right limit is 1.9999999999999998\n"
     ]
    }
   ],
   "source": [
    "import numpy as np\n",
    "\n",
    "def g(x):\n",
    "    return 1-x\n",
    "\n",
    "epsilon = np.finfo(float).eps\n",
    "print(\"Left limit is\", g(x-epsilon))\n",
    "print(\"Right limit is\", g(x+epsilon))"
   ]
  },
  {
   "cell_type": "code",
   "execution_count": null,
   "id": "cf217352-6a5f-4492-8a86-1e94dd7838aa",
   "metadata": {},
   "outputs": [],
   "source": []
  }
 ],
 "metadata": {
  "kernelspec": {
   "display_name": "Python 3 (ipykernel)",
   "language": "python",
   "name": "python3"
  },
  "language_info": {
   "codemirror_mode": {
    "name": "ipython",
    "version": 3
   },
   "file_extension": ".py",
   "mimetype": "text/x-python",
   "name": "python",
   "nbconvert_exporter": "python",
   "pygments_lexer": "ipython3",
   "version": "3.11.10"
  }
 },
 "nbformat": 4,
 "nbformat_minor": 5
}
