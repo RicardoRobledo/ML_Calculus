{
 "cells": [
  {
   "cell_type": "code",
   "execution_count": 1,
   "id": "88a4ddc2-5671-453d-a135-8cdc595da0a7",
   "metadata": {},
   "outputs": [
    {
     "name": "stdout",
     "output_type": "stream",
     "text": [
      "Derivative of\n",
      " 2\n",
      "x \n",
      "with respect to x is\n",
      "2⋅x\n",
      "\n",
      "Derivative of\n",
      "√x\n",
      "with respect to x is\n",
      " 1  \n",
      "────\n",
      "2⋅√x\n",
      "\n"
     ]
    }
   ],
   "source": [
    "from sympy import diff, sqrt, pprint\n",
    "from sympy.abc import x\n",
    "\n",
    "expressions = [x**2, sqrt(x)]\n",
    "\n",
    "for expression in expressions:\n",
    "    result = diff(expression, x)\n",
    "    print(\"Derivative of\")\n",
    "    pprint(expression)\n",
    "    print(\"with respect to x is\")\n",
    "    pprint(result)\n",
    "    print()"
   ]
  },
  {
   "cell_type": "code",
   "execution_count": 3,
   "id": "aa441b0b-623a-432d-b674-188370db54cd",
   "metadata": {},
   "outputs": [
    {
     "name": "stdout",
     "output_type": "stream",
     "text": [
      "Derivative of\n",
      " 2       \n",
      "x ⋅sin(x)\n",
      "with respect to x is\n",
      " 2                    \n",
      "x ⋅cos(x) + 2⋅x⋅sin(x)\n"
     ]
    }
   ],
   "source": [
    "from sympy import diff, sin, pprint\n",
    "from sympy.abc import x\n",
    "\n",
    "u = x**2\n",
    "v = sin(x)\n",
    "f = u * v\n",
    "\n",
    "result = diff(f, x)\n",
    "print(\"Derivative of\")\n",
    "pprint(f)\n",
    "print(\"with respect to x is\")\n",
    "pprint(result)"
   ]
  },
  {
   "cell_type": "code",
   "execution_count": null,
   "id": "5e66e6b2-de47-4d0c-8a2d-6f17ef9a5cf1",
   "metadata": {},
   "outputs": [],
   "source": []
  }
 ],
 "metadata": {
  "kernelspec": {
   "display_name": "Python 3 (ipykernel)",
   "language": "python",
   "name": "python3"
  },
  "language_info": {
   "codemirror_mode": {
    "name": "ipython",
    "version": 3
   },
   "file_extension": ".py",
   "mimetype": "text/x-python",
   "name": "python",
   "nbconvert_exporter": "python",
   "pygments_lexer": "ipython3",
   "version": "3.11.10"
  }
 },
 "nbformat": 4,
 "nbformat_minor": 5
}
