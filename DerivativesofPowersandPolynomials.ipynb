{
 "cells": [
  {
   "cell_type": "code",
   "execution_count": 1,
   "id": "3ee64445-8ff3-4bc6-87ba-b1f3f6522d55",
   "metadata": {},
   "outputs": [
    {
     "name": "stdout",
     "output_type": "stream",
     "text": [
      "Derivative o\n",
      " 2\n",
      "x \n",
      "with respect to x is\n",
      "2⋅x\n",
      "\n",
      "Derivative o\n",
      "   5\n",
      "3⋅x \n",
      "with respect to x is\n",
      "    4\n",
      "15⋅x \n",
      "\n",
      "Derivative o\n",
      "   9\n",
      "4⋅x \n",
      "with respect to x is\n",
      "    8\n",
      "36⋅x \n",
      "\n"
     ]
    }
   ],
   "source": [
    "from sympy import diff, pprint\n",
    "from sympy.abc import x\n",
    "\n",
    "expressions = [x**2, 3*x**5, 4*x**9]\n",
    "\n",
    "for expression in expressions:\n",
    "    result = diff(expression, x)\n",
    "    print(\"Derivative o\")\n",
    "    pprint(expression)\n",
    "    print(\"with respect to x is\")\n",
    "    pprint(result)\n",
    "    print()"
   ]
  },
  {
   "cell_type": "code",
   "execution_count": 7,
   "id": "3aaa8c61-4a80-4398-9538-acb9460da869",
   "metadata": {},
   "outputs": [
    {
     "name": "stdout",
     "output_type": "stream",
     "text": [
      "Derivative of\n",
      "   a\n",
      "k⋅x \n",
      "with respect to x is\n",
      "     a - 1\n",
      "a⋅k⋅x     \n",
      "Derivative of\n",
      " 0.2\n",
      "x   \n",
      "with respect to x is\n",
      "     -0.8\n",
      "0.2⋅x    \n",
      "Derivative of\n",
      " π\n",
      "x \n",
      "with respect to x is\n",
      "   -1 + π\n",
      "π⋅x      \n",
      "Derivative of\n",
      " 1  \n",
      "────\n",
      " 3/4\n",
      "x   \n",
      "with respect to x is\n",
      " -3   \n",
      "──────\n",
      "   7/4\n",
      "4⋅x   \n"
     ]
    }
   ],
   "source": [
    "from sympy import diff, pprint, powsimp, simplify\n",
    "from sympy.abc import x, pi\n",
    "\n",
    "expressions = [\"k*x**a\", \"x**0.2\", \"x**pi\", \"x**(-3/4)\"]\n",
    "\n",
    "for expression in expressions:\n",
    "    expression = simplify(expression)\n",
    "    result = diff(expression, x)\n",
    "    print(\"Derivative of\")\n",
    "    pprint(expression)\n",
    "    print(\"with respect to x is\")\n",
    "    pprint(powsimp(result))\n",
    "    print"
   ]
  },
  {
   "cell_type": "code",
   "execution_count": null,
   "id": "25cec3cc-20cb-4583-bfe9-360c17d6c126",
   "metadata": {},
   "outputs": [],
   "source": []
  }
 ],
 "metadata": {
  "kernelspec": {
   "display_name": "Python 3 (ipykernel)",
   "language": "python",
   "name": "python3"
  },
  "language_info": {
   "codemirror_mode": {
    "name": "ipython",
    "version": 3
   },
   "file_extension": ".py",
   "mimetype": "text/x-python",
   "name": "python",
   "nbconvert_exporter": "python",
   "pygments_lexer": "ipython3",
   "version": "3.11.10"
  }
 },
 "nbformat": 4,
 "nbformat_minor": 5
}
