{
 "cells": [
  {
   "cell_type": "code",
   "execution_count": 2,
   "id": "59f99dfb-9199-4ecb-b3b1-4713cba29227",
   "metadata": {},
   "outputs": [
    {
     "name": "stdout",
     "output_type": "stream",
     "text": [
      "Function\n",
      "   _________\n",
      "  ╱  2      \n",
      "╲╱  x  - 10 \n",
      "has derivative\n",
      "     x      \n",
      "────────────\n",
      "   _________\n",
      "  ╱  2      \n",
      "╲╱  x  - 10 \n"
     ]
    }
   ],
   "source": [
    "from sympy.abc import x, y\n",
    "from sympy import diff, sqrt, pprint\n",
    "\n",
    "f = x**2- 10\n",
    "g = sqrt(f)\n",
    "\n",
    "result = diff(g, x)\n",
    "print(\"Function\")\n",
    "pprint(g)\n",
    "print(\"has derivative\")\n",
    "pprint(result)"
   ]
  },
  {
   "cell_type": "code",
   "execution_count": 3,
   "id": "c075270e-5310-437f-af91-333b222048b7",
   "metadata": {},
   "outputs": [
    {
     "name": "stdout",
     "output_type": "stream",
     "text": [
      "Function\n",
      "   ⎛ 3    ⎞\n",
      "cos⎝x  - 1⎠\n",
      "has derivative\n",
      "    2    ⎛ 3    ⎞\n",
      "-3⋅x ⋅sin⎝x  - 1⎠\n"
     ]
    }
   ],
   "source": [
    "from sympy.abc import x, y\n",
    "from sympy import diff, cos, pprint\n",
    "\n",
    "u = x**3- 1\n",
    "h = cos(u)\n",
    "\n",
    "result = diff(h, x)\n",
    "print(\"Function\")\n",
    "pprint(h)\n",
    "print(\"has derivative\")\n",
    "pprint(result)"
   ]
  },
  {
   "cell_type": "code",
   "execution_count": 12,
   "id": "17526f8b-9453-46c2-b663-65d07a5bd0a8",
   "metadata": {},
   "outputs": [
    {
     "name": "stdout",
     "output_type": "stream",
     "text": [
      "Function\n",
      "   ⎛     _________⎞\n",
      "   ⎜    ╱  2      ⎟\n",
      "cos⎝x⋅╲╱  x  - 10 ⎠\n",
      "has derivative\n",
      "              ⎛     _________⎞\n",
      "  ⎛     2⎞    ⎜    ╱  2      ⎟\n",
      "2⋅⎝5 - x ⎠⋅sin⎝x⋅╲╱  x  - 10 ⎠\n",
      "──────────────────────────────\n",
      "            _________         \n",
      "           ╱  2               \n",
      "         ╲╱  x  - 10          \n"
     ]
    }
   ],
   "source": [
    "from sympy.abc import x, y\n",
    "from sympy import diff, sqrt, cos, simplify, pprint\n",
    "\n",
    "u = x * sqrt(x**2- 10)\n",
    "h = cos(u)\n",
    "\n",
    "result = diff(h, x)\n",
    "print(\"Function\")\n",
    "pprint(h)\n",
    "print(\"has derivative\")\n",
    "pprint(simplify(result))"
   ]
  },
  {
   "cell_type": "code",
   "execution_count": 14,
   "id": "2b5e9b1d-5543-4c13-a379-04f62f291c57",
   "metadata": {},
   "outputs": [
    {
     "name": "stdout",
     "output_type": "stream",
     "text": [
      "Function:\n",
      " 2  2            3\n",
      "x ⋅y  + (2⋅x - y) \n",
      "Derivative with respect to x:\n",
      "     2              2\n",
      "2⋅x⋅y  + 6⋅(2⋅x - y) \n",
      "Derivative with respect to y:\n",
      "   2                2\n",
      "2⋅x ⋅y - 3⋅(2⋅x - y) \n"
     ]
    }
   ],
   "source": [
    "from sympy.abc import x, y\n",
    "from sympy import diff, pprint\n",
    "\n",
    "# Definir funciones auxiliares\n",
    "s = x * y\n",
    "t = 2 * x - y\n",
    "\n",
    "# Función compuesta\n",
    "h = s**2 + t**3\n",
    "\n",
    "# Derivadas parciales\n",
    "dhdx = diff(h, x)\n",
    "dhdy = diff(h, y)\n",
    "\n",
    "# Imprimir resultados\n",
    "print(\"Function:\")\n",
    "pprint(h)\n",
    "\n",
    "print(\"Derivative with respect to x:\")\n",
    "pprint(dhdx)\n",
    "\n",
    "print(\"Derivative with respect to y:\")\n",
    "pprint(dhdy)\n"
   ]
  },
  {
   "cell_type": "code",
   "execution_count": 6,
   "id": "e2664e4c-cde2-49d2-acda-c8a6ff59fa25",
   "metadata": {},
   "outputs": [
    {
     "name": "stdout",
     "output_type": "stream",
     "text": [
      "Function:\n",
      "   2  y           2    2             3\n",
      "- x ⋅ℯ ⋅cos(y) + x ⋅cos (y) + (x + y) \n",
      "Derivative with respect to x:\n",
      "       y                 2               2\n",
      "- 2⋅x⋅ℯ ⋅cos(y) + 2⋅x⋅cos (y) + 3⋅(x + y) \n",
      "Derivative with respect to y:\n",
      " 2  y           2  y             2                          2\n",
      "x ⋅ℯ ⋅sin(y) - x ⋅ℯ ⋅cos(y) - 2⋅x ⋅sin(y)⋅cos(y) + 3⋅(x + y) \n"
     ]
    }
   ],
   "source": [
    "from sympy.abc import x, y\n",
    "from sympy import diff, cos, exp, pprint\n",
    "\n",
    "# Definir funciones auxiliares\n",
    "r = x * cos(y)\n",
    "s = x * exp(y)\n",
    "t = x + y\n",
    "\n",
    "# Función compuesta\n",
    "h = r**2 - r * s + t**3\n",
    "\n",
    "# Derivadas parciales\n",
    "dhdx = diff(h, x)\n",
    "dhdy = diff(h, y)\n",
    "\n",
    "# Imprimir resultados\n",
    "print(\"Function:\")\n",
    "pprint(h)\n",
    "\n",
    "print(\"Derivative with respect to x:\")\n",
    "pprint(dhdx)\n",
    "\n",
    "print(\"Derivative with respect to y:\")\n",
    "pprint(dhdy)\n"
   ]
  }
 ],
 "metadata": {
  "kernelspec": {
   "display_name": "Python 3 (ipykernel)",
   "language": "python",
   "name": "python3"
  },
  "language_info": {
   "codemirror_mode": {
    "name": "ipython",
    "version": 3
   },
   "file_extension": ".py",
   "mimetype": "text/x-python",
   "name": "python",
   "nbconvert_exporter": "python",
   "pygments_lexer": "ipython3",
   "version": "3.11.10"
  }
 },
 "nbformat": 4,
 "nbformat_minor": 5
}
