{
 "cells": [
  {
   "cell_type": "code",
   "execution_count": 1,
   "id": "aae2ba3d-6316-48c2-a2ec-4a9209e0eeaa",
   "metadata": {},
   "outputs": [
    {
     "name": "stdout",
     "output_type": "stream",
     "text": [
      "Slope at x=1 is -1.0\n",
      "Tangent line is y=-1.000000x+2.000000\n",
      "Slope at x=-1 is -1.0\n",
      "Tangent line is y=-1.000000x-2.000000\n"
     ]
    }
   ],
   "source": [
    "import numpy as np\n",
    "\n",
    "def f(x):\n",
    "    return 1 / x\n",
    "\n",
    "epsilon = np.finfo(np.float32).eps\n",
    "\n",
    "for x in [1, -1]:\n",
    "    slope = (f(x + epsilon) - f(x)) / epsilon  # Aproximación por diferencia finita\n",
    "    y = f(x)\n",
    "    c = y - slope * x  # Intersección con eje y (ordenada al origen)\n",
    "    \n",
    "    print(\"Slope at x={} is {}\".format(x, slope))\n",
    "    print(\"Tangent line is y={:f}x{:+f}\".format(slope, c))"
   ]
  },
  {
   "cell_type": "code",
   "execution_count": 2,
   "id": "bf059068-ba00-4de8-88b9-b82e495e57d9",
   "metadata": {},
   "outputs": [
    {
     "name": "stdout",
     "output_type": "stream",
     "text": [
      "Slope at x=2 is 0.0\n",
      "Tangent line is y=0.000000x+4.000000\n",
      "Slope at x=-2 is -4.0\n",
      "Tangent line is y=-4.000000x-4.000000\n"
     ]
    }
   ],
   "source": [
    "import numpy as np\n",
    "\n",
    "def f(x):\n",
    "    return x**2\n",
    "\n",
    "epsilon = np.finfo(np.float32).eps\n",
    "\n",
    "for x in [2, -2]:\n",
    "    slope = (f(x + epsilon) - f(x)) / epsilon  # Derivada numérica\n",
    "    y = f(x)\n",
    "    c = y - slope * x  # Intersección con eje y de la recta tangente\n",
    "\n",
    "    print(\"Slope at x={} is {}\".format(x, slope))\n",
    "    print(\"Tangent line is y={:f}x{:+f}\".format(slope, c))"
   ]
  },
  {
   "cell_type": "code",
   "execution_count": 4,
   "id": "3675e62d-7f48-444a-a252-37114b47f393",
   "metadata": {},
   "outputs": [
    {
     "name": "stdout",
     "output_type": "stream",
     "text": [
      "Slope at x=2 is 0.0\n",
      "Tangent line is y=0.000000x+13.000000\n",
      "Slope at x=0 is 2.0\n",
      "Tangent line is y=2.000000x+1.000000\n",
      "Slope at x=-2 is 16.0\n",
      "Tangent line is y=16.000000x+21.000000\n"
     ]
    }
   ],
   "source": [
    "import numpy as np\n",
    "\n",
    "def f(x):\n",
    "    return x**3 + 2*x + 1\n",
    "\n",
    "epsilon = np.finfo(np.float32).eps\n",
    "\n",
    "for x in [2, 0, -2]:\n",
    "    slope = (f(x + epsilon) - f(x)) / epsilon  # Aproximación numérica de la derivada\n",
    "    y = f(x)\n",
    "    c = y - slope * x  # Intersección con el eje y\n",
    "    print(\"Slope at x={} is {}\".format(x, slope))\n",
    "    print(\"Tangent line is y={:f}x{:+f}\".format(slope, c))"
   ]
  },
  {
   "cell_type": "code",
   "execution_count": 7,
   "id": "b6c46c6c-321a-419d-933a-379d71b84e34",
   "metadata": {},
   "outputs": [
    {
     "name": "stdout",
     "output_type": "stream",
     "text": [
      "Antiderivative of\n",
      "   2\n",
      "3⋅x \n",
      "is\n",
      " 3\n",
      "x \n",
      "\n",
      "Integration of\n",
      "   2\n",
      "3⋅x \n",
      "for x=2 to x=3 is\n",
      "19\n",
      "\n",
      "Numerically using left sum: 18.99250049999912\n",
      "Numerically using right sum: 19.007500499999118\n",
      "Numerically using midpoint sum: 18.99999974999912\n"
     ]
    }
   ],
   "source": [
    "from sympy import integrate, pprint\n",
    "from sympy.abc import x\n",
    "import numpy as np\n",
    "\n",
    "# Definición de la función simbólica\n",
    "f = 3 * x**2\n",
    "\n",
    "# Cálculo de la antiderivada simbólica\n",
    "result = integrate(f, x)\n",
    "print(\"Antiderivative of\")\n",
    "pprint(f)\n",
    "print(\"is\")\n",
    "pprint(result)\n",
    "print()\n",
    "\n",
    "# Cálculo de la integral definida de x=2 a x=3\n",
    "result = integrate(f, (x, 2, 3))\n",
    "print(\"Integration of\")\n",
    "pprint(f)\n",
    "print(\"for x=2 to x=3 is\")\n",
    "pprint(result)\n",
    "print()\n",
    "\n",
    "# Aprox. numérica por suma de rectángulos (Left sum)\n",
    "dx = 0.001\n",
    "x_vals = np.arange(2, 3, dx)\n",
    "y = 3 * x_vals**2\n",
    "result = (y * dx).sum()\n",
    "print(\"Numerically using left sum:\", result)\n",
    "\n",
    "# Aprox. numérica por suma de rectángulos (Right sum)\n",
    "x_vals = np.arange(2, 3, dx) + dx\n",
    "y = 3 * x_vals**2\n",
    "result = (y * dx).sum()\n",
    "print(\"Numerically using right sum:\", result)\n",
    "\n",
    "# Aprox. numérica por suma de rectángulos (Midpoint sum)\n",
    "x_vals = np.arange(2, 3, dx) + dx/2\n",
    "y = 3 * x_vals**2\n",
    "result = (y * dx).sum()\n",
    "print(\"Numerically using midpoint sum:\", result)"
   ]
  },
  {
   "cell_type": "code",
   "execution_count": null,
   "id": "4f213138-fc2f-4e30-a6d1-905181174f89",
   "metadata": {},
   "outputs": [],
   "source": []
  }
 ],
 "metadata": {
  "kernelspec": {
   "display_name": "Python 3 (ipykernel)",
   "language": "python",
   "name": "python3"
  },
  "language_info": {
   "codemirror_mode": {
    "name": "ipython",
    "version": 3
   },
   "file_extension": ".py",
   "mimetype": "text/x-python",
   "name": "python",
   "nbconvert_exporter": "python",
   "pygments_lexer": "ipython3",
   "version": "3.11.10"
  }
 },
 "nbformat": 4,
 "nbformat_minor": 5
}
