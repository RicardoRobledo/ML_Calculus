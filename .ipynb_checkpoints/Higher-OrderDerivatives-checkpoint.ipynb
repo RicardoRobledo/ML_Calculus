{
 "cells": [
  {
   "cell_type": "code",
   "execution_count": 1,
   "id": "fea3087a-d93e-4d1b-b15c-e8c2a6c83f3b",
   "metadata": {},
   "outputs": [
    {
     "name": "stdout",
     "output_type": "stream",
     "text": [
      "Function:\n",
      " 3      2          \n",
      "x  + 2⋅x  - 4⋅x + 1\n",
      "\n",
      "First derivative:\n",
      "   2          \n",
      "3⋅x  + 4⋅x - 4\n",
      "\n",
      "Second derivative:\n",
      "2⋅(3⋅x + 2)\n",
      "\n",
      "Third derivative:\n",
      "6\n",
      "\n",
      "Fourth derivative:\n",
      "0\n",
      "\n",
      "Fifth derivative:\n",
      "0\n"
     ]
    }
   ],
   "source": [
    "from sympy.abc import x\n",
    "from sympy import diff, pprint\n",
    "\n",
    "f = x**3 + 2*x**2 - 4*x + 1\n",
    "\n",
    "# Derivadas sucesivas\n",
    "df1 = diff(f, x)\n",
    "df2 = diff(f, x, 2)\n",
    "df3 = diff(f, x, 3)\n",
    "df4 = diff(f, x, 4)\n",
    "df5 = diff(f, x, 5)\n",
    "\n",
    "# Mostrar resultados con pprint (pretty print)\n",
    "print(\"Function:\")\n",
    "pprint(f)\n",
    "\n",
    "print(\"\\nFirst derivative:\")\n",
    "pprint(df1)\n",
    "\n",
    "print(\"\\nSecond derivative:\")\n",
    "pprint(df2)\n",
    "\n",
    "print(\"\\nThird derivative:\")\n",
    "pprint(df3)\n",
    "\n",
    "print(\"\\nFourth derivative:\")\n",
    "pprint(df4)\n",
    "\n",
    "print(\"\\nFifth derivative:\")\n",
    "pprint(df5)"
   ]
  },
  {
   "cell_type": "code",
   "execution_count": 1,
   "id": "022ca6b3-bee8-43d7-8060-d7f0c5a20fb8",
   "metadata": {},
   "outputs": [
    {
     "name": "stdout",
     "output_type": "stream",
     "text": [
      "Function:\n",
      " 2              2\n",
      "x  + 3⋅x⋅y + 4⋅y \n",
      "f_x =\n",
      "2⋅x + 3⋅y\n",
      "f_y =\n",
      "3⋅x + 8⋅y\n",
      "f_xx =\n",
      "2\n",
      "f_yy =\n",
      "8\n",
      "f_xy =\n",
      "3\n",
      "f_yx =\n",
      "3\n"
     ]
    }
   ],
   "source": [
    "from sympy.abc import x, y\n",
    "from sympy import diff, pprint\n",
    "\n",
    "# Definir la función\n",
    "f = x**2 + 3*x*y + 4*y**2\n",
    "\n",
    "# Derivadas parciales\n",
    "fx = diff(f, x)\n",
    "fy = diff(f, y)\n",
    "\n",
    "# Derivadas de segundo orden\n",
    "fxx = diff(fx, x)\n",
    "fyy = diff(fy, y)\n",
    "fxy = diff(fx, y)\n",
    "fyx = diff(fy, x)\n",
    "\n",
    "# Imprimir resultados\n",
    "print(\"Function:\")\n",
    "pprint(f)\n",
    "\n",
    "print(\"f_x =\")\n",
    "pprint(fx)\n",
    "\n",
    "print(\"f_y =\")\n",
    "pprint(fy)\n",
    "\n",
    "print(\"f_xx =\")\n",
    "pprint(fxx)\n",
    "\n",
    "print(\"f_yy =\")\n",
    "pprint(fyy)\n",
    "\n",
    "print(\"f_xy =\")\n",
    "pprint(fxy)\n",
    "\n",
    "print(\"f_yx =\")\n",
    "pprint(fyx)"
   ]
  },
  {
   "cell_type": "code",
   "execution_count": null,
   "id": "a1c03a59-889e-4689-9369-c3665e6b9fde",
   "metadata": {},
   "outputs": [],
   "source": []
  }
 ],
 "metadata": {
  "kernelspec": {
   "display_name": "Python 3 (ipykernel)",
   "language": "python",
   "name": "python3"
  },
  "language_info": {
   "codemirror_mode": {
    "name": "ipython",
    "version": 3
   },
   "file_extension": ".py",
   "mimetype": "text/x-python",
   "name": "python",
   "nbconvert_exporter": "python",
   "pygments_lexer": "ipython3",
   "version": "3.11.10"
  }
 },
 "nbformat": 4,
 "nbformat_minor": 5
}
