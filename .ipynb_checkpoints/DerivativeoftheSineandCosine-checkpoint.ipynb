{
 "cells": [
  {
   "cell_type": "code",
   "execution_count": 4,
   "id": "df1c6fe1-68b5-4ed0-bfca-6409d99b7cde",
   "metadata": {},
   "outputs": [
    {
     "name": "stdout",
     "output_type": "stream",
     "text": [
      "The first derivative of sine is: cos(x)\n",
      "The first derivative of cosine is: -sin(x)\n"
     ]
    }
   ],
   "source": [
    "from sympy import diff\n",
    "from sympy import sin\n",
    "from sympy import cos\n",
    "from sympy import symbols\n",
    "\n",
    "# define variable as symbol\n",
    "x = symbols('x')\n",
    "\n",
    "# find the first derivative of sine and cosine with respect to x\n",
    "print('The first derivative of sine is:', diff(sin(x), x))\n",
    "print('The first derivative of cosine is:', diff(cos(x), x))"
   ]
  },
  {
   "cell_type": "code",
   "execution_count": 5,
   "id": "a8be5dae-8878-4e49-8ff7-4d101b14dc72",
   "metadata": {},
   "outputs": [
    {
     "name": "stdout",
     "output_type": "stream",
     "text": [
      "The second derivative of sine is: -sin(x)\n",
      "The second derivative of cosine is: -cos(x)\n"
     ]
    }
   ],
   "source": [
    "# find the second derivative of sine and cosine with respect to x\n",
    "print('The second derivative of sine is:', diff(sin(x), x, x))\n",
    "print('The second derivative of cosine is:', diff(cos(x), x, x))"
   ]
  },
  {
   "cell_type": "code",
   "execution_count": 9,
   "id": "e5b4a0e7-af4a-4ff5-8bd1-1f851bb15f5d",
   "metadata": {},
   "outputs": [
    {
     "name": "stdout",
     "output_type": "stream",
     "text": [
      "The second derivative of sine is: -sin(x)\n",
      "The second derivative of cosine is: -cos(x)\n"
     ]
    }
   ],
   "source": [
    "print('The second derivative of sine is:', diff(sin(x), x, 2))\n",
    "print('The second derivative of cosine is:', diff(cos(x), x, 2))"
   ]
  },
  {
   "cell_type": "code",
   "execution_count": null,
   "id": "2cc400cc-16c6-4481-8ef1-eba847f70ccb",
   "metadata": {},
   "outputs": [],
   "source": []
  }
 ],
 "metadata": {
  "kernelspec": {
   "display_name": "Python 3 (ipykernel)",
   "language": "python",
   "name": "python3"
  },
  "language_info": {
   "codemirror_mode": {
    "name": "ipython",
    "version": 3
   },
   "file_extension": ".py",
   "mimetype": "text/x-python",
   "name": "python",
   "nbconvert_exporter": "python",
   "pygments_lexer": "ipython3",
   "version": "3.12.4"
  }
 },
 "nbformat": 4,
 "nbformat_minor": 5
}
