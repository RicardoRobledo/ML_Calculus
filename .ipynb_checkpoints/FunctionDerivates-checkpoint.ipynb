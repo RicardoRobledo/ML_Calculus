{
 "cells": [
  {
   "cell_type": "code",
   "execution_count": 1,
   "id": "8ae54f5b-45eb-4c52-b60c-cdfaf0e0034b",
   "metadata": {},
   "outputs": [
    {
     "name": "stdout",
     "output_type": "stream",
     "text": [
      "Derivative of\n",
      "2⋅x + 5\n",
      "with respect to x is\n",
      "2\n"
     ]
    }
   ],
   "source": [
    "from sympy import diff, sqrt, pprint\n",
    "from sympy.abc import x\n",
    "\n",
    "expression = 2*x + 5\n",
    "result = diff(expression, x)\n",
    "print(\"Derivative of\")\n",
    "pprint(expression)\n",
    "print(\"with respect to x is\")\n",
    "pprint(result)"
   ]
  },
  {
   "cell_type": "code",
   "execution_count": 5,
   "id": "edc9180e-52e6-40f8-b34a-f10eb623152e",
   "metadata": {},
   "outputs": [
    {
     "name": "stdout",
     "output_type": "stream",
     "text": [
      "Derivative of\n",
      " 2\n",
      "x \n",
      "with respect to x is\n",
      "2⋅x\n"
     ]
    }
   ],
   "source": [
    "from sympy import diff, sqrt, pprint\n",
    "from sympy.abc import x\n",
    "\n",
    "expression = x**2\n",
    "result = diff(expression, x)\n",
    "print(\"Derivative of\")\n",
    "pprint(expression)\n",
    "print(\"with respect to x is\")\n",
    "pprint(result)"
   ]
  },
  {
   "cell_type": "code",
   "execution_count": 7,
   "id": "9c580987-34f5-41b7-8fb7-9b3fde24b936",
   "metadata": {},
   "outputs": [
    {
     "name": "stdout",
     "output_type": "stream",
     "text": [
      "Derivative of\n",
      "1\n",
      "─\n",
      "x\n",
      "with respect to x is\n",
      "-1 \n",
      "───\n",
      " 2 \n",
      "x  \n"
     ]
    }
   ],
   "source": [
    "from sympy import diff, sqrt, pprint\n",
    "from sympy.abc import x\n",
    "\n",
    "expression = 1/x\n",
    "result = diff(expression, x)\n",
    "print(\"Derivative of\")\n",
    "pprint(expression)\n",
    "print(\"with respect to x is\")\n",
    "pprint(result)"
   ]
  },
  {
   "cell_type": "code",
   "execution_count": null,
   "id": "cc56ab02-760f-4a76-8080-67836829ee99",
   "metadata": {},
   "outputs": [],
   "source": []
  }
 ],
 "metadata": {
  "kernelspec": {
   "display_name": "Python 3 (ipykernel)",
   "language": "python",
   "name": "python3"
  },
  "language_info": {
   "codemirror_mode": {
    "name": "ipython",
    "version": 3
   },
   "file_extension": ".py",
   "mimetype": "text/x-python",
   "name": "python",
   "nbconvert_exporter": "python",
   "pygments_lexer": "ipython3",
   "version": "3.11.10"
  }
 },
 "nbformat": 4,
 "nbformat_minor": 5
}
