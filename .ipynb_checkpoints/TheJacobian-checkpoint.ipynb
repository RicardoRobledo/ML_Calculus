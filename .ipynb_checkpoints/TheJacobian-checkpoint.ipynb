{
 "cells": [
  {
   "cell_type": "code",
   "execution_count": 1,
   "id": "6142979c-0924-4428-ac14-fb17a621e4ac",
   "metadata": {},
   "outputs": [
    {
     "name": "stdout",
     "output_type": "stream",
     "text": [
      "⎡     -p⋅x - q⋅y          -p⋅x - q⋅y   ⎤\n",
      "⎢  p⋅ℯ                 q⋅ℯ             ⎥\n",
      "⎢──────────────────  ──────────────────⎥\n",
      "⎢                 2                   2⎥\n",
      "⎢⎛ -p⋅x - q⋅y    ⎞   ⎛ -p⋅x - q⋅y    ⎞ ⎥\n",
      "⎢⎝ℯ           + 1⎠   ⎝ℯ           + 1⎠ ⎥\n",
      "⎢                                      ⎥\n",
      "⎢     -r⋅x - s⋅y          -r⋅x - s⋅y   ⎥\n",
      "⎢  r⋅ℯ                 s⋅ℯ             ⎥\n",
      "⎢──────────────────  ──────────────────⎥\n",
      "⎢                 2                   2⎥\n",
      "⎢⎛ -r⋅x - s⋅y    ⎞   ⎛ -r⋅x - s⋅y    ⎞ ⎥\n",
      "⎢⎝ℯ           + 1⎠   ⎝ℯ           + 1⎠ ⎥\n",
      "⎢                                      ⎥\n",
      "⎢     -t⋅x - u⋅y          -t⋅x - u⋅y   ⎥\n",
      "⎢  t⋅ℯ                 u⋅ℯ             ⎥\n",
      "⎢──────────────────  ──────────────────⎥\n",
      "⎢                 2                   2⎥\n",
      "⎢⎛ -t⋅x - u⋅y    ⎞   ⎛ -t⋅x - u⋅y    ⎞ ⎥\n",
      "⎣⎝ℯ           + 1⎠   ⎝ℯ           + 1⎠ ⎦\n"
     ]
    }
   ],
   "source": [
    "from sympy.abc import x, y, p, q, r, s, t, u\n",
    "from sympy import exp, Matrix, simplify, pprint\n",
    "\n",
    "# Definición de la función sigmoide\n",
    "def sigmoid(x):\n",
    "    return 1 / (1 + exp(-x))\n",
    "\n",
    "# Función vectorial con componentes sigmoides\n",
    "f = Matrix([\n",
    "    sigmoid(p * x + q * y),\n",
    "    sigmoid(r * x + s * y),\n",
    "    sigmoid(t * x + u * y)\n",
    "])\n",
    "\n",
    "# Variables respecto a las que derivamos\n",
    "variables = Matrix([x, y])\n",
    "\n",
    "# Calcular y mostrar el Jacobiano\n",
    "pprint(f.jacobian(variables))"
   ]
  }
 ],
 "metadata": {
  "kernelspec": {
   "display_name": "Python 3 (ipykernel)",
   "language": "python",
   "name": "python3"
  },
  "language_info": {
   "codemirror_mode": {
    "name": "ipython",
    "version": 3
   },
   "file_extension": ".py",
   "mimetype": "text/x-python",
   "name": "python",
   "nbconvert_exporter": "python",
   "pygments_lexer": "ipython3",
   "version": "3.12.4"
  }
 },
 "nbformat": 4,
 "nbformat_minor": 5
}
