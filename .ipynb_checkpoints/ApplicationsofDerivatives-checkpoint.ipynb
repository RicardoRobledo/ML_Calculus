{
 "cells": [
  {
   "cell_type": "code",
   "execution_count": 1,
   "id": "fff149e6-18de-4c7c-a7e0-cfb010cc0068",
   "metadata": {},
   "outputs": [
    {
     "name": "stdout",
     "output_type": "stream",
     "text": [
      "Function:\n",
      "-x⋅sin(x)\n",
      "has first derivative:\n",
      "-x⋅cos(x) - sin(x)\n",
      "and second derivative:\n",
      "x⋅sin(x) - 2⋅cos(x)\n"
     ]
    }
   ],
   "source": [
    "from sympy import diff, sin, pprint\n",
    "from sympy.abc import x\n",
    "\n",
    "# Definimos la función\n",
    "f = -x * sin(x)\n",
    "\n",
    "# Derivadas\n",
    "d1 = diff(f, x)       # Primera derivada\n",
    "d2 = diff(f, x, x)    # Segunda derivada\n",
    "\n",
    "# Mostrar resultados\n",
    "print(\"Function:\")\n",
    "pprint(f)\n",
    "\n",
    "print(\"has first derivative:\")\n",
    "pprint(d1)\n",
    "\n",
    "print(\"and second derivative:\")\n",
    "pprint(d2)"
   ]
  },
  {
   "cell_type": "code",
   "execution_count": null,
   "id": "a860394f-6af3-4945-af2f-935cf024784e",
   "metadata": {},
   "outputs": [],
   "source": []
  }
 ],
 "metadata": {
  "kernelspec": {
   "display_name": "Python 3 (ipykernel)",
   "language": "python",
   "name": "python3"
  },
  "language_info": {
   "codemirror_mode": {
    "name": "ipython",
    "version": 3
   },
   "file_extension": ".py",
   "mimetype": "text/x-python",
   "name": "python",
   "nbconvert_exporter": "python",
   "pygments_lexer": "ipython3",
   "version": "3.11.10"
  }
 },
 "nbformat": 4,
 "nbformat_minor": 5
}
