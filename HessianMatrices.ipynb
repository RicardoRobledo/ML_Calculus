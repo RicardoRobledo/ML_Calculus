{
 "cells": [
  {
   "cell_type": "code",
   "execution_count": 1,
   "id": "41875ddb-e822-4723-9b31-a548b221081e",
   "metadata": {},
   "outputs": [
    {
     "name": "stdout",
     "output_type": "stream",
     "text": [
      "Function\n",
      " 3        2      2\n",
      "x  + 3⋅x⋅y  + 2⋅y \n",
      "Hessian\n",
      "⎡6⋅x    6⋅y  ⎤\n",
      "⎢            ⎥\n",
      "⎣6⋅y  6⋅x + 4⎦\n",
      "Discriminant\n",
      "    2              2\n",
      "36⋅x  + 24⋅x - 36⋅y \n",
      "Discriminant at (0,0) = 0\n",
      "Discriminant at (1,0) = 60\n",
      "Discriminant at (0,1) = -36\n",
      "Discriminant at (-1,0) = 12\n"
     ]
    }
   ],
   "source": [
    "from sympy.abc import x, y\n",
    "from sympy import pprint, hessian\n",
    "\n",
    "g = x**3 + 2*y**2 + 3*x*y**2\n",
    "variables = [x, y]\n",
    "h = hessian(g, variables)\n",
    "d = h.det()\n",
    "\n",
    "print(\"Function\")\n",
    "pprint(g)\n",
    "\n",
    "print(\"Hessian\")\n",
    "pprint(h)\n",
    "\n",
    "print(\"Discriminant\")\n",
    "pprint(d)\n",
    "\n",
    "for xval, yval in [(0, 0), (1, 0), (0, 1), (-1, 0)]:\n",
    "    val = d.subs([(x, xval), (y, yval)])\n",
    "    print(f\"Discriminant at ({xval},{yval}) = {val}\")"
   ]
  },
  {
   "cell_type": "code",
   "execution_count": null,
   "id": "5697bef8-de58-4f8d-98f4-c36d4dac544b",
   "metadata": {},
   "outputs": [],
   "source": []
  }
 ],
 "metadata": {
  "kernelspec": {
   "display_name": "Python 3 (ipykernel)",
   "language": "python",
   "name": "python3"
  },
  "language_info": {
   "codemirror_mode": {
    "name": "ipython",
    "version": 3
   },
   "file_extension": ".py",
   "mimetype": "text/x-python",
   "name": "python",
   "nbconvert_exporter": "python",
   "pygments_lexer": "ipython3",
   "version": "3.11.10"
  }
 },
 "nbformat": 4,
 "nbformat_minor": 5
}
