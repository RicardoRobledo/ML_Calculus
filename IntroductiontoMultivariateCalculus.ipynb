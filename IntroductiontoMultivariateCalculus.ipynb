{
 "cells": [
  {
   "cell_type": "code",
   "execution_count": 1,
   "id": "b1abb996-38ec-47ed-8356-0c029729106a",
   "metadata": {},
   "outputs": [
    {
     "name": "stdout",
     "output_type": "stream",
     "text": [
      "Derivative of\n",
      " 2      2\n",
      "x  + 2⋅y \n",
      "with respect to x is\n",
      "2⋅x\n",
      "and with respect to y is\n",
      "4⋅y\n"
     ]
    }
   ],
   "source": [
    "from sympy.abc import x, y\n",
    "from sympy import diff, pprint\n",
    "\n",
    "\n",
    "f = x**2 + 2 * y**2\n",
    "dx = diff(f, x)\n",
    "dy = diff(f, y)\n",
    "\n",
    "print(\"Derivative of\")\n",
    "pprint(f)\n",
    "print(\"with respect to x is\")\n",
    "pprint(dx)\n",
    "print(\"and with respect to y is\")\n",
    "pprint(dy)"
   ]
  },
  {
   "cell_type": "code",
   "execution_count": null,
   "id": "eee79f6a-a522-422d-8905-96daa23f3e2b",
   "metadata": {},
   "outputs": [],
   "source": []
  }
 ],
 "metadata": {
  "kernelspec": {
   "display_name": "Python 3 (ipykernel)",
   "language": "python",
   "name": "python3"
  },
  "language_info": {
   "codemirror_mode": {
    "name": "ipython",
    "version": 3
   },
   "file_extension": ".py",
   "mimetype": "text/x-python",
   "name": "python",
   "nbconvert_exporter": "python",
   "pygments_lexer": "ipython3",
   "version": "3.12.4"
  }
 },
 "nbformat": 4,
 "nbformat_minor": 5
}
