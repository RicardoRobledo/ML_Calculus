{
 "cells": [
  {
   "cell_type": "code",
   "execution_count": 2,
   "id": "a2e6274f-1017-43e3-a955-8a72e3a5513e",
   "metadata": {},
   "outputs": [
    {
     "name": "stdout",
     "output_type": "stream",
     "text": [
      "Antiderivative of\n",
      "   2\n",
      "3⋅x \n",
      "is\n",
      " 3\n",
      "x \n",
      "\n",
      "Integration of\n",
      "   2\n",
      "3⋅x \n",
      "for x=2 to x=3 is\n",
      "19\n",
      "\n",
      "Numerically using left sum: 18.99250049999912\n",
      "Numerically using right sum: 19.007500499999118\n",
      "Numerically using midpoint sum: 18.99999974999912\n"
     ]
    }
   ],
   "source": [
    "from sympy import integrate, pprint\n",
    "from sympy.abc import x\n",
    "import numpy as np\n",
    "\n",
    "# Función simbólica\n",
    "f = 3 * x**2\n",
    "\n",
    "# Antiderivada\n",
    "result = integrate(f, x)\n",
    "print(\"Antiderivative of\")\n",
    "pprint(f)\n",
    "print(\"is\")\n",
    "pprint(result)\n",
    "print()\n",
    "\n",
    "# Integral definida de 2 a 3\n",
    "result = integrate(f, (x, 2, 3))\n",
    "print(\"Integration of\")\n",
    "pprint(f)\n",
    "print(\"for x=2 to x=3 is\")\n",
    "pprint(result)\n",
    "print()\n",
    "\n",
    "# Aproximación numérica usando sumas de Riemann\n",
    "dx = 0.001\n",
    "\n",
    "# Suma por la izquierda\n",
    "x_vals = np.arange(2, 3, dx)\n",
    "y_vals = 3 * x_vals**2\n",
    "result = (y_vals * dx).sum()\n",
    "print(\"Numerically using left sum:\", result)\n",
    "\n",
    "# Suma por la derecha\n",
    "x_vals = np.arange(2, 3, dx) + dx\n",
    "y_vals = 3 * x_vals**2\n",
    "result = (y_vals * dx).sum()\n",
    "print(\"Numerically using right sum:\", result)\n",
    "\n",
    "# Suma por punto medio\n",
    "x_vals = np.arange(2, 3, dx) + dx/2\n",
    "y_vals = 3 * x_vals**2\n",
    "result = (y_vals * dx).sum()\n",
    "print(\"Numerically using midpoint sum:\", result)"
   ]
  }
 ],
 "metadata": {
  "kernelspec": {
   "display_name": "Python 3 (ipykernel)",
   "language": "python",
   "name": "python3"
  },
  "language_info": {
   "codemirror_mode": {
    "name": "ipython",
    "version": 3
   },
   "file_extension": ".py",
   "mimetype": "text/x-python",
   "name": "python",
   "nbconvert_exporter": "python",
   "pygments_lexer": "ipython3",
   "version": "3.11.10"
  }
 },
 "nbformat": 4,
 "nbformat_minor": 5
}
